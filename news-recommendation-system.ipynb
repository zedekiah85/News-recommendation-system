{
 "cells": [
  {
   "cell_type": "code",
   "execution_count": null,
   "metadata": {
    "tags": []
   },
   "outputs": [],
   "source": [
    "#!pip install numpy==1.24"
   ]
  },
  {
   "cell_type": "code",
   "execution_count": 67,
   "metadata": {
    "tags": []
   },
   "outputs": [
    {
     "data": {
      "text/html": [
       "<div>\n",
       "<style scoped>\n",
       "    .dataframe tbody tr th:only-of-type {\n",
       "        vertical-align: middle;\n",
       "    }\n",
       "\n",
       "    .dataframe tbody tr th {\n",
       "        vertical-align: top;\n",
       "    }\n",
       "\n",
       "    .dataframe thead th {\n",
       "        text-align: right;\n",
       "    }\n",
       "</style>\n",
       "<table border=\"1\" class=\"dataframe\">\n",
       "  <thead>\n",
       "    <tr style=\"text-align: right;\">\n",
       "      <th></th>\n",
       "      <th>link</th>\n",
       "      <th>headline</th>\n",
       "      <th>category</th>\n",
       "      <th>short_description</th>\n",
       "      <th>authors</th>\n",
       "      <th>date</th>\n",
       "    </tr>\n",
       "  </thead>\n",
       "  <tbody>\n",
       "    <tr>\n",
       "      <th>0</th>\n",
       "      <td>https://www.huffpost.com/entry/covid-boosters-...</td>\n",
       "      <td>Over 4 Million Americans Roll Up Sleeves For O...</td>\n",
       "      <td>U.S. NEWS</td>\n",
       "      <td>Health experts said it is too early to predict...</td>\n",
       "      <td>Carla K. Johnson, AP</td>\n",
       "      <td>2022-09-23</td>\n",
       "    </tr>\n",
       "    <tr>\n",
       "      <th>1</th>\n",
       "      <td>https://www.huffpost.com/entry/american-airlin...</td>\n",
       "      <td>American Airlines Flyer Charged, Banned For Li...</td>\n",
       "      <td>U.S. NEWS</td>\n",
       "      <td>He was subdued by passengers and crew when he ...</td>\n",
       "      <td>Mary Papenfuss</td>\n",
       "      <td>2022-09-23</td>\n",
       "    </tr>\n",
       "    <tr>\n",
       "      <th>2</th>\n",
       "      <td>https://www.huffpost.com/entry/funniest-tweets...</td>\n",
       "      <td>23 Of The Funniest Tweets About Cats And Dogs ...</td>\n",
       "      <td>COMEDY</td>\n",
       "      <td>\"Until you have a dog you don't understand wha...</td>\n",
       "      <td>Elyse Wanshel</td>\n",
       "      <td>2022-09-23</td>\n",
       "    </tr>\n",
       "    <tr>\n",
       "      <th>3</th>\n",
       "      <td>https://www.huffpost.com/entry/funniest-parent...</td>\n",
       "      <td>The Funniest Tweets From Parents This Week (Se...</td>\n",
       "      <td>PARENTING</td>\n",
       "      <td>\"Accidentally put grown-up toothpaste on my to...</td>\n",
       "      <td>Caroline Bologna</td>\n",
       "      <td>2022-09-23</td>\n",
       "    </tr>\n",
       "    <tr>\n",
       "      <th>4</th>\n",
       "      <td>https://www.huffpost.com/entry/amy-cooper-lose...</td>\n",
       "      <td>Woman Who Called Cops On Black Bird-Watcher Lo...</td>\n",
       "      <td>U.S. NEWS</td>\n",
       "      <td>Amy Cooper accused investment firm Franklin Te...</td>\n",
       "      <td>Nina Golgowski</td>\n",
       "      <td>2022-09-22</td>\n",
       "    </tr>\n",
       "  </tbody>\n",
       "</table>\n",
       "</div>"
      ],
      "text/plain": [
       "                                                link  \\\n",
       "0  https://www.huffpost.com/entry/covid-boosters-...   \n",
       "1  https://www.huffpost.com/entry/american-airlin...   \n",
       "2  https://www.huffpost.com/entry/funniest-tweets...   \n",
       "3  https://www.huffpost.com/entry/funniest-parent...   \n",
       "4  https://www.huffpost.com/entry/amy-cooper-lose...   \n",
       "\n",
       "                                            headline   category  \\\n",
       "0  Over 4 Million Americans Roll Up Sleeves For O...  U.S. NEWS   \n",
       "1  American Airlines Flyer Charged, Banned For Li...  U.S. NEWS   \n",
       "2  23 Of The Funniest Tweets About Cats And Dogs ...     COMEDY   \n",
       "3  The Funniest Tweets From Parents This Week (Se...  PARENTING   \n",
       "4  Woman Who Called Cops On Black Bird-Watcher Lo...  U.S. NEWS   \n",
       "\n",
       "                                   short_description               authors  \\\n",
       "0  Health experts said it is too early to predict...  Carla K. Johnson, AP   \n",
       "1  He was subdued by passengers and crew when he ...        Mary Papenfuss   \n",
       "2  \"Until you have a dog you don't understand wha...         Elyse Wanshel   \n",
       "3  \"Accidentally put grown-up toothpaste on my to...      Caroline Bologna   \n",
       "4  Amy Cooper accused investment firm Franklin Te...        Nina Golgowski   \n",
       "\n",
       "        date  \n",
       "0 2022-09-23  \n",
       "1 2022-09-23  \n",
       "2 2022-09-23  \n",
       "3 2022-09-23  \n",
       "4 2022-09-22  "
      ]
     },
     "execution_count": 67,
     "metadata": {},
     "output_type": "execute_result"
    }
   ],
   "source": [
    "import numpy as np \n",
    "import pandas as pd \n",
    "import json\n",
    "import zipfile\n",
    "\n",
    "df = pd.read_json('News_Category_Dataset_v3.json', lines=True)\n",
    "df.head()"
   ]
  },
  {
   "cell_type": "code",
   "execution_count": 68,
   "metadata": {
    "tags": []
   },
   "outputs": [
    {
     "name": "stdout",
     "output_type": "stream",
     "text": [
      "<class 'pandas.core.frame.DataFrame'>\n",
      "RangeIndex: 209527 entries, 0 to 209526\n",
      "Data columns (total 6 columns):\n",
      " #   Column             Non-Null Count   Dtype         \n",
      "---  ------             --------------   -----         \n",
      " 0   link               209527 non-null  object        \n",
      " 1   headline           209527 non-null  object        \n",
      " 2   category           209527 non-null  object        \n",
      " 3   short_description  209527 non-null  object        \n",
      " 4   authors            209527 non-null  object        \n",
      " 5   date               209527 non-null  datetime64[ns]\n",
      "dtypes: datetime64[ns](1), object(5)\n",
      "memory usage: 9.6+ MB\n"
     ]
    }
   ],
   "source": [
    "df.info()"
   ]
  },
  {
   "cell_type": "markdown",
   "metadata": {
    "tags": []
   },
   "source": [
    "## **Data Cleaning**"
   ]
  },
  {
   "cell_type": "code",
   "execution_count": 69,
   "metadata": {
    "tags": []
   },
   "outputs": [
    {
     "data": {
      "text/plain": [
       "link                 0\n",
       "headline             0\n",
       "category             0\n",
       "short_description    0\n",
       "authors              0\n",
       "date                 0\n",
       "dtype: int64"
      ]
     },
     "execution_count": 69,
     "metadata": {},
     "output_type": "execute_result"
    }
   ],
   "source": [
    "#Checking for missing values\n",
    "df.isnull().sum()"
   ]
  },
  {
   "cell_type": "markdown",
   "metadata": {
    "tags": []
   },
   "source": [
    "Getting these values because: This can happen due to the presence of \"missing\" values that aren't technically NaN (the value used by Pandas to represent missing data), but are instead represented by other placeholder values, such as empty strings (''), whitespace, or special markers like None."
   ]
  },
  {
   "cell_type": "code",
   "execution_count": 70,
   "metadata": {
    "tags": []
   },
   "outputs": [
    {
     "data": {
      "text/html": [
       "<div>\n",
       "<style scoped>\n",
       "    .dataframe tbody tr th:only-of-type {\n",
       "        vertical-align: middle;\n",
       "    }\n",
       "\n",
       "    .dataframe tbody tr th {\n",
       "        vertical-align: top;\n",
       "    }\n",
       "\n",
       "    .dataframe thead th {\n",
       "        text-align: right;\n",
       "    }\n",
       "</style>\n",
       "<table border=\"1\" class=\"dataframe\">\n",
       "  <thead>\n",
       "    <tr style=\"text-align: right;\">\n",
       "      <th></th>\n",
       "      <th>link</th>\n",
       "      <th>headline</th>\n",
       "      <th>category</th>\n",
       "      <th>short_description</th>\n",
       "      <th>authors</th>\n",
       "      <th>date</th>\n",
       "    </tr>\n",
       "  </thead>\n",
       "  <tbody>\n",
       "    <tr>\n",
       "      <th>209217</th>\n",
       "      <td>https://www.huffingtonpost.comhttp://flavorwir...</td>\n",
       "      <td>TV's Most Ill-Advised Weddings</td>\n",
       "      <td>WEDDINGS</td>\n",
       "      <td>Everyone knows that TV weddings are ratings bo...</td>\n",
       "      <td></td>\n",
       "      <td>2012-01-31</td>\n",
       "    </tr>\n",
       "    <tr>\n",
       "      <th>209218</th>\n",
       "      <td>https://www.huffingtonpost.comhttp://www.busin...</td>\n",
       "      <td>The Super Bowl Is More Important Than Just Abo...</td>\n",
       "      <td>WEDDINGS</td>\n",
       "      <td>The Super Bowl is really important to American...</td>\n",
       "      <td></td>\n",
       "      <td>2012-01-31</td>\n",
       "    </tr>\n",
       "    <tr>\n",
       "      <th>209219</th>\n",
       "      <td>https://www.huffingtonpost.comhttp://www.daily...</td>\n",
       "      <td>The Couple That Argues Together Stays Together...</td>\n",
       "      <td>WEDDINGS</td>\n",
       "      <td>A new survey is sure to confirm just what many...</td>\n",
       "      <td></td>\n",
       "      <td>2012-01-31</td>\n",
       "    </tr>\n",
       "    <tr>\n",
       "      <th>209220</th>\n",
       "      <td>https://www.huffingtonpost.com/entry/candice-s...</td>\n",
       "      <td>Candice Swanepoel Prabal Gurung Spring 2012 Ca...</td>\n",
       "      <td>STYLE &amp; BEAUTY</td>\n",
       "      <td>The twists and poses are typical for a high-fa...</td>\n",
       "      <td>Ellie Krupnick</td>\n",
       "      <td>2012-01-31</td>\n",
       "    </tr>\n",
       "    <tr>\n",
       "      <th>209221</th>\n",
       "      <td>https://www.huffingtonpost.com/entry/santorum-...</td>\n",
       "      <td>Santorum And The Politics Of Parenting</td>\n",
       "      <td>PARENTING</td>\n",
       "      <td>Never has a presidential candidate lived so se...</td>\n",
       "      <td>Lisa Belkin, Contributor\\nSenior Columnist, Th...</td>\n",
       "      <td>2012-01-31</td>\n",
       "    </tr>\n",
       "    <tr>\n",
       "      <th>209222</th>\n",
       "      <td>https://www.huffingtonpost.com/entry/justin-ti...</td>\n",
       "      <td>Justin Timberlake Birthday: A Look Back At 31 ...</td>\n",
       "      <td>STYLE &amp; BEAUTY</td>\n",
       "      <td>Happy birthday, Justin Timberlake! Since Timbe...</td>\n",
       "      <td>Michelle Manetti</td>\n",
       "      <td>2012-01-31</td>\n",
       "    </tr>\n",
       "    <tr>\n",
       "      <th>209223</th>\n",
       "      <td>https://www.huffingtonpost.com/entry/heidi-klu...</td>\n",
       "      <td>Heidi Klum and Seal: What Blew Up Their Marriage?</td>\n",
       "      <td>DIVORCE</td>\n",
       "      <td>After almost seven years of marriage, Heidi Kl...</td>\n",
       "      <td>Dr. Jane Greer, Contributor\\nSHRINK WRAP by Dr...</td>\n",
       "      <td>2012-01-31</td>\n",
       "    </tr>\n",
       "  </tbody>\n",
       "</table>\n",
       "</div>"
      ],
      "text/plain": [
       "                                                     link  \\\n",
       "209217  https://www.huffingtonpost.comhttp://flavorwir...   \n",
       "209218  https://www.huffingtonpost.comhttp://www.busin...   \n",
       "209219  https://www.huffingtonpost.comhttp://www.daily...   \n",
       "209220  https://www.huffingtonpost.com/entry/candice-s...   \n",
       "209221  https://www.huffingtonpost.com/entry/santorum-...   \n",
       "209222  https://www.huffingtonpost.com/entry/justin-ti...   \n",
       "209223  https://www.huffingtonpost.com/entry/heidi-klu...   \n",
       "\n",
       "                                                 headline        category  \\\n",
       "209217                     TV's Most Ill-Advised Weddings        WEDDINGS   \n",
       "209218  The Super Bowl Is More Important Than Just Abo...        WEDDINGS   \n",
       "209219  The Couple That Argues Together Stays Together...        WEDDINGS   \n",
       "209220  Candice Swanepoel Prabal Gurung Spring 2012 Ca...  STYLE & BEAUTY   \n",
       "209221             Santorum And The Politics Of Parenting       PARENTING   \n",
       "209222  Justin Timberlake Birthday: A Look Back At 31 ...  STYLE & BEAUTY   \n",
       "209223  Heidi Klum and Seal: What Blew Up Their Marriage?         DIVORCE   \n",
       "\n",
       "                                        short_description  \\\n",
       "209217  Everyone knows that TV weddings are ratings bo...   \n",
       "209218  The Super Bowl is really important to American...   \n",
       "209219  A new survey is sure to confirm just what many...   \n",
       "209220  The twists and poses are typical for a high-fa...   \n",
       "209221  Never has a presidential candidate lived so se...   \n",
       "209222  Happy birthday, Justin Timberlake! Since Timbe...   \n",
       "209223  After almost seven years of marriage, Heidi Kl...   \n",
       "\n",
       "                                                  authors       date  \n",
       "209217                                                    2012-01-31  \n",
       "209218                                                    2012-01-31  \n",
       "209219                                                    2012-01-31  \n",
       "209220                                     Ellie Krupnick 2012-01-31  \n",
       "209221  Lisa Belkin, Contributor\\nSenior Columnist, Th... 2012-01-31  \n",
       "209222                                   Michelle Manetti 2012-01-31  \n",
       "209223  Dr. Jane Greer, Contributor\\nSHRINK WRAP by Dr... 2012-01-31  "
      ]
     },
     "execution_count": 70,
     "metadata": {},
     "output_type": "execute_result"
    }
   ],
   "source": [
    "# Example to show the presence of missing values\n",
    "df[209217:209224]"
   ]
  },
  {
   "cell_type": "markdown",
   "metadata": {
    "tags": []
   },
   "source": [
    "In this case we have the some missing values in the author column"
   ]
  },
  {
   "cell_type": "code",
   "execution_count": 71,
   "metadata": {
    "tags": []
   },
   "outputs": [
    {
     "data": {
      "text/plain": [
       "link                     0\n",
       "headline                 6\n",
       "category                 0\n",
       "short_description    19712\n",
       "authors              37418\n",
       "date                     0\n",
       "dtype: int64"
      ]
     },
     "execution_count": 71,
     "metadata": {},
     "output_type": "execute_result"
    }
   ],
   "source": [
    "#Checking if there are any other mssing values\n",
    "df.replace(\"\", pd.NA, inplace=True)\n",
    "df.isnull().sum()"
   ]
  },
  {
   "cell_type": "code",
   "execution_count": 72,
   "metadata": {
    "tags": []
   },
   "outputs": [
    {
     "name": "stdout",
     "output_type": "stream",
     "text": [
      "link                  0.000000\n",
      "headline              0.002864\n",
      "category              0.000000\n",
      "short_description     9.407857\n",
      "authors              17.858319\n",
      "date                  0.000000\n",
      "dtype: float64\n"
     ]
    }
   ],
   "source": [
    "#Percentage of missing values\n",
    "missing_percentage = df.isnull().mean()*100\n",
    "print(missing_percentage)"
   ]
  },
  {
   "cell_type": "code",
   "execution_count": 73,
   "metadata": {
    "tags": []
   },
   "outputs": [
    {
     "data": {
      "text/plain": [
       "link                 0\n",
       "headline             0\n",
       "category             0\n",
       "short_description    0\n",
       "authors              0\n",
       "date                 0\n",
       "dtype: int64"
      ]
     },
     "execution_count": 73,
     "metadata": {},
     "output_type": "execute_result"
    }
   ],
   "source": [
    "#Replacing the author column column with unknown\n",
    "df['authors']=df['authors'].replace(pd.NA, \"unknown\")\n",
    "\n",
    "#Drop the remaining columns with missing values\n",
    "df.dropna(inplace=True)\n",
    "\n",
    "#Checking if there are any other missing values\n",
    "df.isnull().sum()"
   ]
  },
  {
   "cell_type": "code",
   "execution_count": 74,
   "metadata": {
    "tags": []
   },
   "outputs": [
    {
     "data": {
      "text/plain": [
       "Index(['headline', 'category', 'short_description', 'authors'], dtype='object')"
      ]
     },
     "execution_count": 74,
     "metadata": {},
     "output_type": "execute_result"
    }
   ],
   "source": [
    "#Dropping the date and the link column\n",
    "\n",
    "df.drop(columns=['link', 'date'], inplace=True)\n",
    "\n",
    "df.columns"
   ]
  },
  {
   "cell_type": "markdown",
   "metadata": {
    "tags": []
   },
   "source": [
    "## **Text Preprocessing**"
   ]
  },
  {
   "cell_type": "code",
   "execution_count": null,
   "metadata": {
    "tags": []
   },
   "outputs": [],
   "source": [
    "#!pip install -U pip setuptools wheel\n",
    "#!pip install -U spacy\n",
    "\n",
    "#!python -m spacy download en_core_web_sm"
   ]
  },
  {
   "cell_type": "code",
   "execution_count": 75,
   "metadata": {
    "tags": []
   },
   "outputs": [],
   "source": [
    "import spacy\n",
    "nlp = spacy.load(\"en_core_web_sm\", disable=[\"parser\"])"
   ]
  },
  {
   "cell_type": "code",
   "execution_count": 76,
   "metadata": {
    "tags": []
   },
   "outputs": [
    {
     "data": {
      "text/html": [
       "<div>\n",
       "<style scoped>\n",
       "    .dataframe tbody tr th:only-of-type {\n",
       "        vertical-align: middle;\n",
       "    }\n",
       "\n",
       "    .dataframe tbody tr th {\n",
       "        vertical-align: top;\n",
       "    }\n",
       "\n",
       "    .dataframe thead th {\n",
       "        text-align: right;\n",
       "    }\n",
       "</style>\n",
       "<table border=\"1\" class=\"dataframe\">\n",
       "  <thead>\n",
       "    <tr style=\"text-align: right;\">\n",
       "      <th></th>\n",
       "      <th>headline</th>\n",
       "      <th>category</th>\n",
       "      <th>short_description</th>\n",
       "      <th>authors</th>\n",
       "    </tr>\n",
       "  </thead>\n",
       "  <tbody>\n",
       "    <tr>\n",
       "      <th>0</th>\n",
       "      <td>Over 4 Million Americans Roll Up Sleeves For O...</td>\n",
       "      <td>U.S. NEWS</td>\n",
       "      <td>Health experts said it is too early to predict...</td>\n",
       "      <td>Carla K. Johnson, AP</td>\n",
       "    </tr>\n",
       "    <tr>\n",
       "      <th>1</th>\n",
       "      <td>American Airlines Flyer Charged, Banned For Li...</td>\n",
       "      <td>U.S. NEWS</td>\n",
       "      <td>He was subdued by passengers and crew when he ...</td>\n",
       "      <td>Mary Papenfuss</td>\n",
       "    </tr>\n",
       "    <tr>\n",
       "      <th>2</th>\n",
       "      <td>23 Of The Funniest Tweets About Cats And Dogs ...</td>\n",
       "      <td>COMEDY</td>\n",
       "      <td>\"Until you have a dog you don't understand wha...</td>\n",
       "      <td>Elyse Wanshel</td>\n",
       "    </tr>\n",
       "    <tr>\n",
       "      <th>3</th>\n",
       "      <td>The Funniest Tweets From Parents This Week (Se...</td>\n",
       "      <td>PARENTING</td>\n",
       "      <td>\"Accidentally put grown-up toothpaste on my to...</td>\n",
       "      <td>Caroline Bologna</td>\n",
       "    </tr>\n",
       "    <tr>\n",
       "      <th>4</th>\n",
       "      <td>Woman Who Called Cops On Black Bird-Watcher Lo...</td>\n",
       "      <td>U.S. NEWS</td>\n",
       "      <td>Amy Cooper accused investment firm Franklin Te...</td>\n",
       "      <td>Nina Golgowski</td>\n",
       "    </tr>\n",
       "  </tbody>\n",
       "</table>\n",
       "</div>"
      ],
      "text/plain": [
       "                                            headline   category  \\\n",
       "0  Over 4 Million Americans Roll Up Sleeves For O...  U.S. NEWS   \n",
       "1  American Airlines Flyer Charged, Banned For Li...  U.S. NEWS   \n",
       "2  23 Of The Funniest Tweets About Cats And Dogs ...     COMEDY   \n",
       "3  The Funniest Tweets From Parents This Week (Se...  PARENTING   \n",
       "4  Woman Who Called Cops On Black Bird-Watcher Lo...  U.S. NEWS   \n",
       "\n",
       "                                   short_description               authors  \n",
       "0  Health experts said it is too early to predict...  Carla K. Johnson, AP  \n",
       "1  He was subdued by passengers and crew when he ...        Mary Papenfuss  \n",
       "2  \"Until you have a dog you don't understand wha...         Elyse Wanshel  \n",
       "3  \"Accidentally put grown-up toothpaste on my to...      Caroline Bologna  \n",
       "4  Amy Cooper accused investment firm Franklin Te...        Nina Golgowski  "
      ]
     },
     "execution_count": 76,
     "metadata": {},
     "output_type": "execute_result"
    }
   ],
   "source": [
    "#Combining the headline column and the short description column\n",
    "#df['text'] = df['headline'] + \" \" + df['short_description']\n",
    "df.head()"
   ]
  },
  {
   "cell_type": "code",
   "execution_count": 77,
   "metadata": {
    "tags": []
   },
   "outputs": [
    {
     "data": {
      "text/html": [
       "<div>\n",
       "<style scoped>\n",
       "    .dataframe tbody tr th:only-of-type {\n",
       "        vertical-align: middle;\n",
       "    }\n",
       "\n",
       "    .dataframe tbody tr th {\n",
       "        vertical-align: top;\n",
       "    }\n",
       "\n",
       "    .dataframe thead th {\n",
       "        text-align: right;\n",
       "    }\n",
       "</style>\n",
       "<table border=\"1\" class=\"dataframe\">\n",
       "  <thead>\n",
       "    <tr style=\"text-align: right;\">\n",
       "      <th></th>\n",
       "      <th>headline</th>\n",
       "      <th>category</th>\n",
       "      <th>short_description</th>\n",
       "    </tr>\n",
       "  </thead>\n",
       "  <tbody>\n",
       "    <tr>\n",
       "      <th>0</th>\n",
       "      <td>Over 4 Million Americans Roll Up Sleeves For O...</td>\n",
       "      <td>U.S. NEWS</td>\n",
       "      <td>Health experts said it is too early to predict...</td>\n",
       "    </tr>\n",
       "    <tr>\n",
       "      <th>1</th>\n",
       "      <td>American Airlines Flyer Charged, Banned For Li...</td>\n",
       "      <td>U.S. NEWS</td>\n",
       "      <td>He was subdued by passengers and crew when he ...</td>\n",
       "    </tr>\n",
       "    <tr>\n",
       "      <th>2</th>\n",
       "      <td>23 Of The Funniest Tweets About Cats And Dogs ...</td>\n",
       "      <td>COMEDY</td>\n",
       "      <td>\"Until you have a dog you don't understand wha...</td>\n",
       "    </tr>\n",
       "    <tr>\n",
       "      <th>3</th>\n",
       "      <td>The Funniest Tweets From Parents This Week (Se...</td>\n",
       "      <td>PARENTING</td>\n",
       "      <td>\"Accidentally put grown-up toothpaste on my to...</td>\n",
       "    </tr>\n",
       "    <tr>\n",
       "      <th>4</th>\n",
       "      <td>Woman Who Called Cops On Black Bird-Watcher Lo...</td>\n",
       "      <td>U.S. NEWS</td>\n",
       "      <td>Amy Cooper accused investment firm Franklin Te...</td>\n",
       "    </tr>\n",
       "  </tbody>\n",
       "</table>\n",
       "</div>"
      ],
      "text/plain": [
       "                                            headline   category  \\\n",
       "0  Over 4 Million Americans Roll Up Sleeves For O...  U.S. NEWS   \n",
       "1  American Airlines Flyer Charged, Banned For Li...  U.S. NEWS   \n",
       "2  23 Of The Funniest Tweets About Cats And Dogs ...     COMEDY   \n",
       "3  The Funniest Tweets From Parents This Week (Se...  PARENTING   \n",
       "4  Woman Who Called Cops On Black Bird-Watcher Lo...  U.S. NEWS   \n",
       "\n",
       "                                   short_description  \n",
       "0  Health experts said it is too early to predict...  \n",
       "1  He was subdued by passengers and crew when he ...  \n",
       "2  \"Until you have a dog you don't understand wha...  \n",
       "3  \"Accidentally put grown-up toothpaste on my to...  \n",
       "4  Amy Cooper accused investment firm Franklin Te...  "
      ]
     },
     "execution_count": 77,
     "metadata": {},
     "output_type": "execute_result"
    }
   ],
   "source": [
    "#Dropping the headline and short description column\n",
    "df.drop(['authors'], inplace=True, axis=1)\n",
    "df.head()"
   ]
  },
  {
   "cell_type": "code",
   "execution_count": 78,
   "metadata": {
    "tags": []
   },
   "outputs": [
    {
     "data": {
      "text/plain": [
       "(1000, 3)"
      ]
     },
     "execution_count": 78,
     "metadata": {},
     "output_type": "execute_result"
    }
   ],
   "source": [
    "df = df.head(1000)\n",
    "\n",
    "df.shape"
   ]
  },
  {
   "cell_type": "code",
   "execution_count": 79,
   "metadata": {
    "tags": []
   },
   "outputs": [
    {
     "data": {
      "text/html": [
       "<div>\n",
       "<style scoped>\n",
       "    .dataframe tbody tr th:only-of-type {\n",
       "        vertical-align: middle;\n",
       "    }\n",
       "\n",
       "    .dataframe tbody tr th {\n",
       "        vertical-align: top;\n",
       "    }\n",
       "\n",
       "    .dataframe thead th {\n",
       "        text-align: right;\n",
       "    }\n",
       "</style>\n",
       "<table border=\"1\" class=\"dataframe\">\n",
       "  <thead>\n",
       "    <tr style=\"text-align: right;\">\n",
       "      <th></th>\n",
       "      <th>headline</th>\n",
       "      <th>category</th>\n",
       "      <th>short_description</th>\n",
       "    </tr>\n",
       "  </thead>\n",
       "  <tbody>\n",
       "    <tr>\n",
       "      <th>0</th>\n",
       "      <td>Over 4 Million Americans Roll Up Sleeves For O...</td>\n",
       "      <td>U.S. NEWS</td>\n",
       "      <td>Health experts said it is too early to predict...</td>\n",
       "    </tr>\n",
       "    <tr>\n",
       "      <th>1</th>\n",
       "      <td>American Airlines Flyer Charged, Banned For Li...</td>\n",
       "      <td>U.S. NEWS</td>\n",
       "      <td>He was subdued by passengers and crew when he ...</td>\n",
       "    </tr>\n",
       "    <tr>\n",
       "      <th>2</th>\n",
       "      <td>23 Of The Funniest Tweets About Cats And Dogs ...</td>\n",
       "      <td>COMEDY</td>\n",
       "      <td>\"Until you have a dog you don't understand wha...</td>\n",
       "    </tr>\n",
       "    <tr>\n",
       "      <th>3</th>\n",
       "      <td>The Funniest Tweets From Parents This Week (Se...</td>\n",
       "      <td>PARENTING</td>\n",
       "      <td>\"Accidentally put grown-up toothpaste on my to...</td>\n",
       "    </tr>\n",
       "    <tr>\n",
       "      <th>4</th>\n",
       "      <td>Woman Who Called Cops On Black Bird-Watcher Lo...</td>\n",
       "      <td>U.S. NEWS</td>\n",
       "      <td>Amy Cooper accused investment firm Franklin Te...</td>\n",
       "    </tr>\n",
       "  </tbody>\n",
       "</table>\n",
       "</div>"
      ],
      "text/plain": [
       "                                            headline   category  \\\n",
       "0  Over 4 Million Americans Roll Up Sleeves For O...  U.S. NEWS   \n",
       "1  American Airlines Flyer Charged, Banned For Li...  U.S. NEWS   \n",
       "2  23 Of The Funniest Tweets About Cats And Dogs ...     COMEDY   \n",
       "3  The Funniest Tweets From Parents This Week (Se...  PARENTING   \n",
       "4  Woman Who Called Cops On Black Bird-Watcher Lo...  U.S. NEWS   \n",
       "\n",
       "                                   short_description  \n",
       "0  Health experts said it is too early to predict...  \n",
       "1  He was subdued by passengers and crew when he ...  \n",
       "2  \"Until you have a dog you don't understand wha...  \n",
       "3  \"Accidentally put grown-up toothpaste on my to...  \n",
       "4  Amy Cooper accused investment firm Franklin Te...  "
      ]
     },
     "execution_count": 79,
     "metadata": {},
     "output_type": "execute_result"
    }
   ],
   "source": [
    "df.head()"
   ]
  },
  {
   "cell_type": "code",
   "execution_count": 80,
   "metadata": {
    "tags": []
   },
   "outputs": [
    {
     "data": {
      "text/html": [
       "<div>\n",
       "<style scoped>\n",
       "    .dataframe tbody tr th:only-of-type {\n",
       "        vertical-align: middle;\n",
       "    }\n",
       "\n",
       "    .dataframe tbody tr th {\n",
       "        vertical-align: top;\n",
       "    }\n",
       "\n",
       "    .dataframe thead th {\n",
       "        text-align: right;\n",
       "    }\n",
       "</style>\n",
       "<table border=\"1\" class=\"dataframe\">\n",
       "  <thead>\n",
       "    <tr style=\"text-align: right;\">\n",
       "      <th></th>\n",
       "      <th>headline</th>\n",
       "      <th>category</th>\n",
       "      <th>short_description</th>\n",
       "    </tr>\n",
       "  </thead>\n",
       "  <tbody>\n",
       "    <tr>\n",
       "      <th>0</th>\n",
       "      <td>4 million americans roll sleeve omicron target...</td>\n",
       "      <td>u.s news</td>\n",
       "      <td>health expert say early predict demand match 1...</td>\n",
       "    </tr>\n",
       "    <tr>\n",
       "      <th>1</th>\n",
       "      <td>american airlines flyer charge ban life punch ...</td>\n",
       "      <td>u.s news</td>\n",
       "      <td>subdue passenger crew flee aircraft confrontat...</td>\n",
       "    </tr>\n",
       "    <tr>\n",
       "      <th>2</th>\n",
       "      <td>23 funniest tweet cat dog week sept 17 23</td>\n",
       "      <td>comedy</td>\n",
       "      <td>dog understand eat</td>\n",
       "    </tr>\n",
       "    <tr>\n",
       "      <th>3</th>\n",
       "      <td>funniest tweet parent week sept 17 23</td>\n",
       "      <td>parenting</td>\n",
       "      <td>accidentally grow toothpaste toddler toothbrus...</td>\n",
       "    </tr>\n",
       "    <tr>\n",
       "      <th>4</th>\n",
       "      <td>woman call cop black bird watcher lose lawsuit...</td>\n",
       "      <td>u.s news</td>\n",
       "      <td>amy cooper accuse investment firm franklin tem...</td>\n",
       "    </tr>\n",
       "  </tbody>\n",
       "</table>\n",
       "</div>"
      ],
      "text/plain": [
       "                                            headline   category  \\\n",
       "0  4 million americans roll sleeve omicron target...   u.s news   \n",
       "1  american airlines flyer charge ban life punch ...   u.s news   \n",
       "2          23 funniest tweet cat dog week sept 17 23     comedy   \n",
       "3              funniest tweet parent week sept 17 23  parenting   \n",
       "4  woman call cop black bird watcher lose lawsuit...   u.s news   \n",
       "\n",
       "                                   short_description  \n",
       "0  health expert say early predict demand match 1...  \n",
       "1  subdue passenger crew flee aircraft confrontat...  \n",
       "2                                 dog understand eat  \n",
       "3  accidentally grow toothpaste toddler toothbrus...  \n",
       "4  amy cooper accuse investment firm franklin tem...  "
      ]
     },
     "execution_count": 80,
     "metadata": {},
     "output_type": "execute_result"
    }
   ],
   "source": [
    "#Create a language preprocessing pipeline for the dataset\n",
    "\n",
    "#Processing the text in batches using spacy's nlp.pipelines for faster execution\n",
    "def preprocess_text_column(df, column):\n",
    "    texts = df[column].astype(str).tolist() # Converting columns to alist of strings\n",
    "    processed_texts = []\n",
    "    \n",
    "    \n",
    "    #Using nlp for batch processing\n",
    "    for doc in nlp.pipe(texts, batch_size=1000, disable=['parser'], n_process=-1):\n",
    "        #Change text to lowercase\n",
    "        doc = nlp(doc.text.lower())\n",
    "        tokens = [token.lemma_ for token in doc if not token.is_stop and not token.is_punct]\n",
    "        processed_texts.append(\" \".join(tokens))\n",
    "        \n",
    "    df[column]=processed_texts\n",
    "    return df\n",
    "        \n",
    "#Columns to process\n",
    "columns_to_process = [\"headline\", \"category\", \"short_description\"]\n",
    "\n",
    "for column in columns_to_process:\n",
    "    df = preprocess_text_column(df, column)\n",
    "    \n",
    "df.head()"
   ]
  },
  {
   "cell_type": "code",
   "execution_count": 81,
   "metadata": {
    "tags": []
   },
   "outputs": [],
   "source": [
    "df.to_json('data.json', index=False)"
   ]
  },
  {
   "cell_type": "code",
   "execution_count": 97,
   "metadata": {
    "tags": []
   },
   "outputs": [],
   "source": [
    "#df.to_csv('data.csv', index=False, header=True, sep=',')"
   ]
  },
  {
   "cell_type": "markdown",
   "metadata": {
    "tags": []
   },
   "source": [
    "## **Text Representation**"
   ]
  },
  {
   "cell_type": "code",
   "execution_count": 82,
   "metadata": {
    "tags": []
   },
   "outputs": [],
   "source": [
    "#Using one hot encoding\n",
    "from sklearn.preprocessing import OneHotEncoder\n",
    "from sklearn.pipeline import Pipeline\n",
    "\n",
    "#Extracting the text column\n",
    "text = df[['headline', 'category', 'short_description']]\n",
    "\n",
    "#Creating an instance of the onehotencoder\n",
    "encoder = OneHotEncoder()\n",
    "\n",
    "pipeline1 = Pipeline(steps=[('OneHotEncoder', OneHotEncoder())])\n",
    "\n",
    "\n",
    "#Fitting and transforming the genres column\n",
    "text_encoded = pipeline1.fit_transform(text.values.reshape(-1, 1))"
   ]
  },
  {
   "cell_type": "code",
   "execution_count": 83,
   "metadata": {
    "tags": []
   },
   "outputs": [
    {
     "data": {
      "text/plain": [
       "<3000x2024 sparse matrix of type '<class 'numpy.float64'>'\n",
       "\twith 3000 stored elements in Compressed Sparse Row format>"
      ]
     },
     "execution_count": 83,
     "metadata": {},
     "output_type": "execute_result"
    }
   ],
   "source": [
    "text_encoded"
   ]
  },
  {
   "cell_type": "code",
   "execution_count": 84,
   "metadata": {
    "tags": []
   },
   "outputs": [
    {
     "data": {
      "text/html": [
       "<style>#sk-container-id-2 {color: black;}#sk-container-id-2 pre{padding: 0;}#sk-container-id-2 div.sk-toggleable {background-color: white;}#sk-container-id-2 label.sk-toggleable__label {cursor: pointer;display: block;width: 100%;margin-bottom: 0;padding: 0.3em;box-sizing: border-box;text-align: center;}#sk-container-id-2 label.sk-toggleable__label-arrow:before {content: \"▸\";float: left;margin-right: 0.25em;color: #696969;}#sk-container-id-2 label.sk-toggleable__label-arrow:hover:before {color: black;}#sk-container-id-2 div.sk-estimator:hover label.sk-toggleable__label-arrow:before {color: black;}#sk-container-id-2 div.sk-toggleable__content {max-height: 0;max-width: 0;overflow: hidden;text-align: left;background-color: #f0f8ff;}#sk-container-id-2 div.sk-toggleable__content pre {margin: 0.2em;color: black;border-radius: 0.25em;background-color: #f0f8ff;}#sk-container-id-2 input.sk-toggleable__control:checked~div.sk-toggleable__content {max-height: 200px;max-width: 100%;overflow: auto;}#sk-container-id-2 input.sk-toggleable__control:checked~label.sk-toggleable__label-arrow:before {content: \"▾\";}#sk-container-id-2 div.sk-estimator input.sk-toggleable__control:checked~label.sk-toggleable__label {background-color: #d4ebff;}#sk-container-id-2 div.sk-label input.sk-toggleable__control:checked~label.sk-toggleable__label {background-color: #d4ebff;}#sk-container-id-2 input.sk-hidden--visually {border: 0;clip: rect(1px 1px 1px 1px);clip: rect(1px, 1px, 1px, 1px);height: 1px;margin: -1px;overflow: hidden;padding: 0;position: absolute;width: 1px;}#sk-container-id-2 div.sk-estimator {font-family: monospace;background-color: #f0f8ff;border: 1px dotted black;border-radius: 0.25em;box-sizing: border-box;margin-bottom: 0.5em;}#sk-container-id-2 div.sk-estimator:hover {background-color: #d4ebff;}#sk-container-id-2 div.sk-parallel-item::after {content: \"\";width: 100%;border-bottom: 1px solid gray;flex-grow: 1;}#sk-container-id-2 div.sk-label:hover label.sk-toggleable__label {background-color: #d4ebff;}#sk-container-id-2 div.sk-serial::before {content: \"\";position: absolute;border-left: 1px solid gray;box-sizing: border-box;top: 0;bottom: 0;left: 50%;z-index: 0;}#sk-container-id-2 div.sk-serial {display: flex;flex-direction: column;align-items: center;background-color: white;padding-right: 0.2em;padding-left: 0.2em;position: relative;}#sk-container-id-2 div.sk-item {position: relative;z-index: 1;}#sk-container-id-2 div.sk-parallel {display: flex;align-items: stretch;justify-content: center;background-color: white;position: relative;}#sk-container-id-2 div.sk-item::before, #sk-container-id-2 div.sk-parallel-item::before {content: \"\";position: absolute;border-left: 1px solid gray;box-sizing: border-box;top: 0;bottom: 0;left: 50%;z-index: -1;}#sk-container-id-2 div.sk-parallel-item {display: flex;flex-direction: column;z-index: 1;position: relative;background-color: white;}#sk-container-id-2 div.sk-parallel-item:first-child::after {align-self: flex-end;width: 50%;}#sk-container-id-2 div.sk-parallel-item:last-child::after {align-self: flex-start;width: 50%;}#sk-container-id-2 div.sk-parallel-item:only-child::after {width: 0;}#sk-container-id-2 div.sk-dashed-wrapped {border: 1px dashed gray;margin: 0 0.4em 0.5em 0.4em;box-sizing: border-box;padding-bottom: 0.4em;background-color: white;}#sk-container-id-2 div.sk-label label {font-family: monospace;font-weight: bold;display: inline-block;line-height: 1.2em;}#sk-container-id-2 div.sk-label-container {text-align: center;}#sk-container-id-2 div.sk-container {/* jupyter's `normalize.less` sets `[hidden] { display: none; }` but bootstrap.min.css set `[hidden] { display: none !important; }` so we also need the `!important` here to be able to override the default hidden behavior on the sphinx rendered scikit-learn.org. See: https://github.com/scikit-learn/scikit-learn/issues/21755 */display: inline-block !important;position: relative;}#sk-container-id-2 div.sk-text-repr-fallback {display: none;}</style><div id=\"sk-container-id-2\" class=\"sk-top-container\"><div class=\"sk-text-repr-fallback\"><pre>NearestNeighbors(metric=&#x27;cosine&#x27;)</pre><b>In a Jupyter environment, please rerun this cell to show the HTML representation or trust the notebook. <br />On GitHub, the HTML representation is unable to render, please try loading this page with nbviewer.org.</b></div><div class=\"sk-container\" hidden><div class=\"sk-item\"><div class=\"sk-estimator sk-toggleable\"><input class=\"sk-toggleable__control sk-hidden--visually\" id=\"sk-estimator-id-2\" type=\"checkbox\" checked><label for=\"sk-estimator-id-2\" class=\"sk-toggleable__label sk-toggleable__label-arrow\">NearestNeighbors</label><div class=\"sk-toggleable__content\"><pre>NearestNeighbors(metric=&#x27;cosine&#x27;)</pre></div></div></div></div></div>"
      ],
      "text/plain": [
       "NearestNeighbors(metric='cosine')"
      ]
     },
     "execution_count": 84,
     "metadata": {},
     "output_type": "execute_result"
    }
   ],
   "source": [
    "import joblib\n",
    "\n",
    "joblib.dump(pipeline1, \"pipeline1.joblib\")\n",
    "\n",
    "from sklearn.neighbors import NearestNeighbors\n",
    "\n",
    "#Creating a instance of the NearestNeighbors class\n",
    "recommender = NearestNeighbors(metric='cosine')\n",
    "\n",
    "#Fitting the encoded genres to the recommender\n",
    "recommender.fit(text_encoded.toarray())"
   ]
  },
  {
   "cell_type": "markdown",
   "metadata": {
    "tags": []
   },
   "source": [
    "## **Making Recommendations**"
   ]
  },
  {
   "cell_type": "code",
   "execution_count": 85,
   "metadata": {
    "tags": []
   },
   "outputs": [
    {
     "data": {
      "text/plain": [
       "(3000, 2024)"
      ]
     },
     "execution_count": 85,
     "metadata": {},
     "output_type": "execute_result"
    }
   ],
   "source": [
    "# Number of recommendations to return\n",
    "num_recommendations = 5\n",
    "\n",
    "# Getting the recommendations\n",
    "_, recommendations = recommender.kneighbors(text_encoded.toarray(), n_neighbors=num_recommendations)\n",
    "\n",
    "# Ensure the indices are within bounds of the DataFrame\n",
    "recommendations = [index for index in recommendations[0] if index < len(df)]\n",
    "\n",
    "# Extracting the text from the recommendations\n",
    "if recommendations:\n",
    "    recommended_text_titles = df.iloc[recommendations][['category', 'headline', 'short_description']]\n",
    "else:\n",
    "    recommended_text_titles = pd.DataFrame(columns=['category', 'headline', 'short_description'])  # Empty if no valid indices\n",
    "\n",
    "\n",
    "\n",
    "\n",
    "recommended_text_titles\n",
    "\n",
    "text_encoded.toarray().shape"
   ]
  },
  {
   "cell_type": "markdown",
   "metadata": {
    "tags": []
   },
   "source": [
    "## **Saving to a vector database**"
   ]
  },
  {
   "cell_type": "code",
   "execution_count": null,
   "metadata": {
    "tags": []
   },
   "outputs": [],
   "source": [
    "#!pip install faiss-cpu\n",
    "#!pip install numpy==1.25.2"
   ]
  },
  {
   "cell_type": "code",
   "execution_count": 86,
   "metadata": {
    "tags": []
   },
   "outputs": [
    {
     "name": "stdout",
     "output_type": "stream",
     "text": [
      "Index saved with 3000 vectors\n"
     ]
    }
   ],
   "source": [
    "import numpy as np\n",
    "import faiss\n",
    "\n",
    "#Create a sample numpy array\n",
    "dimension = 2024\n",
    "num_vectors = 3000\n",
    "\n",
    "#Create a FAISS index\n",
    "index = faiss.IndexFlatL2(dimension)\n",
    "\n",
    "#Add vectors to the index\n",
    "index.add(text_encoded.toarray())\n",
    "\n",
    "#Save the index to disk\n",
    "faiss.write_index(index, 'vector_database.index')\n",
    "print(f'Index saved with {index.ntotal} vectors')"
   ]
  },
  {
   "cell_type": "code",
   "execution_count": 87,
   "metadata": {
    "tags": []
   },
   "outputs": [
    {
     "name": "stdout",
     "output_type": "stream",
     "text": [
      "Query 0:\n",
      "Neighbor 0: Index 0, Distance 0.0\n",
      "Neighbor 1: Index 1, Distance 2.0\n",
      "Neighbor 2: Index 2, Distance 2.0\n",
      "Neighbor 3: Index 3, Distance 2.0\n",
      "Neighbor 4: Index 4, Distance 2.0\n",
      "Query:\n",
      "Neighbor 0: Index 5, Distance 0.0\n",
      "                                            headline   category  \\\n",
      "5    clean dead belk bathroom 4 day body find police   u.s news   \n",
      "0  4 million americans roll sleeve omicron target...   u.s news   \n",
      "1  american airlines flyer charge ban life punch ...   u.s news   \n",
      "2          23 funniest tweet cat dog week sept 17 23     comedy   \n",
      "3              funniest tweet parent week sept 17 23  parenting   \n",
      "\n",
      "                                   short_description  \n",
      "5  63 year old woman see work south carolina stor...  \n",
      "0  health expert say early predict demand match 1...  \n",
      "1  subdue passenger crew flee aircraft confrontat...  \n",
      "2                                 dog understand eat  \n",
      "3  accidentally grow toothpaste toddler toothbrus...  \n",
      "Neighbor 1: Index 0, Distance 2.0\n",
      "                                            headline   category  \\\n",
      "5    clean dead belk bathroom 4 day body find police   u.s news   \n",
      "0  4 million americans roll sleeve omicron target...   u.s news   \n",
      "1  american airlines flyer charge ban life punch ...   u.s news   \n",
      "2          23 funniest tweet cat dog week sept 17 23     comedy   \n",
      "3              funniest tweet parent week sept 17 23  parenting   \n",
      "\n",
      "                                   short_description  \n",
      "5  63 year old woman see work south carolina stor...  \n",
      "0  health expert say early predict demand match 1...  \n",
      "1  subdue passenger crew flee aircraft confrontat...  \n",
      "2                                 dog understand eat  \n",
      "3  accidentally grow toothpaste toddler toothbrus...  \n",
      "Neighbor 2: Index 1, Distance 2.0\n",
      "                                            headline   category  \\\n",
      "5    clean dead belk bathroom 4 day body find police   u.s news   \n",
      "0  4 million americans roll sleeve omicron target...   u.s news   \n",
      "1  american airlines flyer charge ban life punch ...   u.s news   \n",
      "2          23 funniest tweet cat dog week sept 17 23     comedy   \n",
      "3              funniest tweet parent week sept 17 23  parenting   \n",
      "\n",
      "                                   short_description  \n",
      "5  63 year old woman see work south carolina stor...  \n",
      "0  health expert say early predict demand match 1...  \n",
      "1  subdue passenger crew flee aircraft confrontat...  \n",
      "2                                 dog understand eat  \n",
      "3  accidentally grow toothpaste toddler toothbrus...  \n",
      "Neighbor 3: Index 2, Distance 2.0\n",
      "                                            headline   category  \\\n",
      "5    clean dead belk bathroom 4 day body find police   u.s news   \n",
      "0  4 million americans roll sleeve omicron target...   u.s news   \n",
      "1  american airlines flyer charge ban life punch ...   u.s news   \n",
      "2          23 funniest tweet cat dog week sept 17 23     comedy   \n",
      "3              funniest tweet parent week sept 17 23  parenting   \n",
      "\n",
      "                                   short_description  \n",
      "5  63 year old woman see work south carolina stor...  \n",
      "0  health expert say early predict demand match 1...  \n",
      "1  subdue passenger crew flee aircraft confrontat...  \n",
      "2                                 dog understand eat  \n",
      "3  accidentally grow toothpaste toddler toothbrus...  \n",
      "Neighbor 4: Index 3, Distance 2.0\n",
      "                                            headline   category  \\\n",
      "5    clean dead belk bathroom 4 day body find police   u.s news   \n",
      "0  4 million americans roll sleeve omicron target...   u.s news   \n",
      "1  american airlines flyer charge ban life punch ...   u.s news   \n",
      "2          23 funniest tweet cat dog week sept 17 23     comedy   \n",
      "3              funniest tweet parent week sept 17 23  parenting   \n",
      "\n",
      "                                   short_description  \n",
      "5  63 year old woman see work south carolina stor...  \n",
      "0  health expert say early predict demand match 1...  \n",
      "1  subdue passenger crew flee aircraft confrontat...  \n",
      "2                                 dog understand eat  \n",
      "3  accidentally grow toothpaste toddler toothbrus...  \n",
      "headline             4 million americans roll sleeve omicron target...\n",
      "category                                                      u.s news\n",
      "short_description    health expert say early predict demand match 1...\n",
      "Name: 0, dtype: object\n"
     ]
    }
   ],
   "source": [
    "#Query from database\n",
    "\n",
    "#Load the saved index\n",
    "index = faiss.read_index('vector_database.index')\n",
    "\n",
    "#Create a query vector/ multiple query vectors\n",
    "text_index = 0\n",
    "num_queries = 1\n",
    "query_vectors = text_encoded[text_index].toarray()\n",
    "\n",
    "#Perform the search\n",
    "k=5 #Number of nearest neighbors to retrieve\n",
    "distances, indices = index.search(query_vectors, k)\n",
    "\n",
    "#Print results\n",
    "for i in range(num_queries):\n",
    "    print(f'Query {i}:')\n",
    "    for j in range(k):\n",
    "        print(f\"Neighbor {j}: Index {indices[i][j]}, Distance {distances[i][j]}\")\n",
    "\n",
    "#Create a query vector\n",
    "num_queries = 1\n",
    "query_vector = text_encoded[5].toarray()\n",
    "\n",
    "#Perform the search\n",
    "k=5 #Number of nearest neighbors to retrieve\n",
    "distances, indices = index.search(query_vector, k)\n",
    "\n",
    "#Print results\n",
    "print(f'Query:')\n",
    "for j in range (k):\n",
    "    print(f'Neighbor {j}: Index {indices[0][j]}, Distance {distances[0][j]}')\n",
    "    \n",
    "    #Acces the corresponding Dataframe rows using the retrieved indices\n",
    "    neighbor_rows = df.iloc[indices[0]]\n",
    "    print(neighbor_rows)\n",
    "\n",
    "# prompt: How to get the text representation of query_vector = text_encoded[0].toarray()  # Assuming you want to query with the first vector\n",
    "\n",
    "query_vector_text = df.iloc[0][['headline', 'category', 'short_description']]\n",
    "print(query_vector_text)"
   ]
  },
  {
   "cell_type": "markdown",
   "metadata": {
    "tags": []
   },
   "source": [
    "## **Using TF-IDF**"
   ]
  },
  {
   "cell_type": "code",
   "execution_count": 88,
   "metadata": {
    "tags": []
   },
   "outputs": [],
   "source": [
    "from sklearn.feature_extraction.text import TfidfVectorizer"
   ]
  },
  {
   "cell_type": "code",
   "execution_count": 89,
   "metadata": {
    "tags": []
   },
   "outputs": [
    {
     "data": {
      "text/html": [
       "<div>\n",
       "<style scoped>\n",
       "    .dataframe tbody tr th:only-of-type {\n",
       "        vertical-align: middle;\n",
       "    }\n",
       "\n",
       "    .dataframe tbody tr th {\n",
       "        vertical-align: top;\n",
       "    }\n",
       "\n",
       "    .dataframe thead th {\n",
       "        text-align: right;\n",
       "    }\n",
       "</style>\n",
       "<table border=\"1\" class=\"dataframe\">\n",
       "  <thead>\n",
       "    <tr style=\"text-align: right;\">\n",
       "      <th></th>\n",
       "      <th>headline</th>\n",
       "      <th>category</th>\n",
       "      <th>short_description</th>\n",
       "    </tr>\n",
       "  </thead>\n",
       "  <tbody>\n",
       "    <tr>\n",
       "      <th>0</th>\n",
       "      <td>4 million americans roll sleeve omicron target...</td>\n",
       "      <td>u.s news</td>\n",
       "      <td>health expert say early predict demand match 1...</td>\n",
       "    </tr>\n",
       "    <tr>\n",
       "      <th>1</th>\n",
       "      <td>american airlines flyer charge ban life punch ...</td>\n",
       "      <td>u.s news</td>\n",
       "      <td>subdue passenger crew flee aircraft confrontat...</td>\n",
       "    </tr>\n",
       "    <tr>\n",
       "      <th>2</th>\n",
       "      <td>23 funniest tweet cat dog week sept 17 23</td>\n",
       "      <td>comedy</td>\n",
       "      <td>dog understand eat</td>\n",
       "    </tr>\n",
       "    <tr>\n",
       "      <th>3</th>\n",
       "      <td>funniest tweet parent week sept 17 23</td>\n",
       "      <td>parenting</td>\n",
       "      <td>accidentally grow toothpaste toddler toothbrus...</td>\n",
       "    </tr>\n",
       "    <tr>\n",
       "      <th>4</th>\n",
       "      <td>woman call cop black bird watcher lose lawsuit...</td>\n",
       "      <td>u.s news</td>\n",
       "      <td>amy cooper accuse investment firm franklin tem...</td>\n",
       "    </tr>\n",
       "    <tr>\n",
       "      <th>...</th>\n",
       "      <td>...</td>\n",
       "      <td>...</td>\n",
       "      <td>...</td>\n",
       "    </tr>\n",
       "    <tr>\n",
       "      <th>995</th>\n",
       "      <td>china weigh exit zero covid risk involve</td>\n",
       "      <td>world news</td>\n",
       "      <td>change appear imminent government continue pol...</td>\n",
       "    </tr>\n",
       "    <tr>\n",
       "      <th>996</th>\n",
       "      <td>russian missile hit near lviv airport strike c...</td>\n",
       "      <td>world news</td>\n",
       "      <td>world leader call investigation russia repeat ...</td>\n",
       "    </tr>\n",
       "    <tr>\n",
       "      <th>997</th>\n",
       "      <td>syria assad visit uae 1st trip arab country war</td>\n",
       "      <td>world news</td>\n",
       "      <td>assad office say meet sheikh mohamed bin rashi...</td>\n",
       "    </tr>\n",
       "    <tr>\n",
       "      <th>998</th>\n",
       "      <td>strong japan earthquake kill 4 injure 107</td>\n",
       "      <td>world news</td>\n",
       "      <td>7.4 magnitude temblor knock power cause extens...</td>\n",
       "    </tr>\n",
       "    <tr>\n",
       "      <th>999</th>\n",
       "      <td>9 dead 2 injure fiery crash involve university...</td>\n",
       "      <td>u.s news</td>\n",
       "      <td>canadian student hospitalize critical condition</td>\n",
       "    </tr>\n",
       "  </tbody>\n",
       "</table>\n",
       "<p>1000 rows × 3 columns</p>\n",
       "</div>"
      ],
      "text/plain": [
       "                                              headline    category  \\\n",
       "0    4 million americans roll sleeve omicron target...    u.s news   \n",
       "1    american airlines flyer charge ban life punch ...    u.s news   \n",
       "2            23 funniest tweet cat dog week sept 17 23      comedy   \n",
       "3                funniest tweet parent week sept 17 23   parenting   \n",
       "4    woman call cop black bird watcher lose lawsuit...    u.s news   \n",
       "..                                                 ...         ...   \n",
       "995           china weigh exit zero covid risk involve  world news   \n",
       "996  russian missile hit near lviv airport strike c...  world news   \n",
       "997    syria assad visit uae 1st trip arab country war  world news   \n",
       "998          strong japan earthquake kill 4 injure 107  world news   \n",
       "999  9 dead 2 injure fiery crash involve university...    u.s news   \n",
       "\n",
       "                                     short_description  \n",
       "0    health expert say early predict demand match 1...  \n",
       "1    subdue passenger crew flee aircraft confrontat...  \n",
       "2                                   dog understand eat  \n",
       "3    accidentally grow toothpaste toddler toothbrus...  \n",
       "4    amy cooper accuse investment firm franklin tem...  \n",
       "..                                                 ...  \n",
       "995  change appear imminent government continue pol...  \n",
       "996  world leader call investigation russia repeat ...  \n",
       "997  assad office say meet sheikh mohamed bin rashi...  \n",
       "998  7.4 magnitude temblor knock power cause extens...  \n",
       "999    canadian student hospitalize critical condition  \n",
       "\n",
       "[1000 rows x 3 columns]"
      ]
     },
     "execution_count": 89,
     "metadata": {},
     "output_type": "execute_result"
    }
   ],
   "source": [
    "df"
   ]
  },
  {
   "cell_type": "code",
   "execution_count": 90,
   "metadata": {
    "tags": []
   },
   "outputs": [
    {
     "data": {
      "text/plain": [
       "array([[0., 0., 0., ..., 0., 0., 0.],\n",
       "       [0., 0., 0., ..., 0., 0., 0.],\n",
       "       [0., 0., 0., ..., 0., 0., 0.],\n",
       "       ...,\n",
       "       [0., 0., 0., ..., 0., 0., 0.],\n",
       "       [0., 0., 0., ..., 0., 0., 0.],\n",
       "       [0., 0., 0., ..., 0., 0., 0.]])"
      ]
     },
     "execution_count": 90,
     "metadata": {},
     "output_type": "execute_result"
    }
   ],
   "source": [
    "vectorizer = TfidfVectorizer()\n",
    "vector_df = vectorizer.fit_transform(df['headline'].values).toarray()\n",
    "vector_df"
   ]
  },
  {
   "cell_type": "code",
   "execution_count": null,
   "metadata": {
    "tags": []
   },
   "outputs": [],
   "source": [
    "import pandas as pd\n",
    "from sklearn.feature_extraction.text import TfidfVectorizer\n",
    "\n",
    "# Assuming 'df' is your DataFrame\n",
    "vectorizer = TfidfVectorizer()\n",
    "vector_df = vectorizer.fit_transform(df['category'].values).toarray()\n",
    "\n",
    "# Get the words (features) from the vectorizer\n",
    "words = vectorizer.get_feature_names_out()\n",
    "\n",
    "# Convert the TF-IDF matrix to a DataFrame for easier handling\n",
    "tfidf_df = pd.DataFrame(vector_df, columns=words)\n",
    "\n",
    "# Set the number of top words to retrieve\n",
    "top_n = 5  # You can change this to any number of top words you'd like\n",
    "\n",
    "# Extract the top words per document\n",
    "top_words_per_doc = {}\n",
    "\n",
    "for idx, row in tfidf_df.iterrows():\n",
    "    # Get top n words based on TF-IDF score for the current document\n",
    "    top_words = row.nlargest(top_n).index.tolist()\n",
    "    top_words_per_doc[f\"Document {idx+1}\"] = top_words\n",
    "\n",
    "# Display the top words for each document\n",
    "for doc, top_words in top_words_per_doc.items():\n",
    "    print(f\"{doc}: {', '.join(top_words)}\")"
   ]
  },
  {
   "cell_type": "code",
   "execution_count": 92,
   "metadata": {
    "tags": []
   },
   "outputs": [
    {
     "data": {
      "text/html": [
       "<div>\n",
       "<style scoped>\n",
       "    .dataframe tbody tr th:only-of-type {\n",
       "        vertical-align: middle;\n",
       "    }\n",
       "\n",
       "    .dataframe tbody tr th {\n",
       "        vertical-align: top;\n",
       "    }\n",
       "\n",
       "    .dataframe thead th {\n",
       "        text-align: right;\n",
       "    }\n",
       "</style>\n",
       "<table border=\"1\" class=\"dataframe\">\n",
       "  <thead>\n",
       "    <tr style=\"text-align: right;\">\n",
       "      <th></th>\n",
       "      <th>headline</th>\n",
       "      <th>category</th>\n",
       "      <th>short_description</th>\n",
       "    </tr>\n",
       "  </thead>\n",
       "  <tbody>\n",
       "    <tr>\n",
       "      <th>0</th>\n",
       "      <td>4 million americans roll sleeve omicron target...</td>\n",
       "      <td>u.s news</td>\n",
       "      <td>health expert say early predict demand match 1...</td>\n",
       "    </tr>\n",
       "    <tr>\n",
       "      <th>1</th>\n",
       "      <td>american airlines flyer charge ban life punch ...</td>\n",
       "      <td>u.s news</td>\n",
       "      <td>subdue passenger crew flee aircraft confrontat...</td>\n",
       "    </tr>\n",
       "    <tr>\n",
       "      <th>2</th>\n",
       "      <td>23 funniest tweet cat dog week sept 17 23</td>\n",
       "      <td>comedy</td>\n",
       "      <td>dog understand eat</td>\n",
       "    </tr>\n",
       "    <tr>\n",
       "      <th>3</th>\n",
       "      <td>funniest tweet parent week sept 17 23</td>\n",
       "      <td>parenting</td>\n",
       "      <td>accidentally grow toothpaste toddler toothbrus...</td>\n",
       "    </tr>\n",
       "    <tr>\n",
       "      <th>4</th>\n",
       "      <td>woman call cop black bird watcher lose lawsuit...</td>\n",
       "      <td>u.s news</td>\n",
       "      <td>amy cooper accuse investment firm franklin tem...</td>\n",
       "    </tr>\n",
       "    <tr>\n",
       "      <th>...</th>\n",
       "      <td>...</td>\n",
       "      <td>...</td>\n",
       "      <td>...</td>\n",
       "    </tr>\n",
       "    <tr>\n",
       "      <th>995</th>\n",
       "      <td>china weigh exit zero covid risk involve</td>\n",
       "      <td>world news</td>\n",
       "      <td>change appear imminent government continue pol...</td>\n",
       "    </tr>\n",
       "    <tr>\n",
       "      <th>996</th>\n",
       "      <td>russian missile hit near lviv airport strike c...</td>\n",
       "      <td>world news</td>\n",
       "      <td>world leader call investigation russia repeat ...</td>\n",
       "    </tr>\n",
       "    <tr>\n",
       "      <th>997</th>\n",
       "      <td>syria assad visit uae 1st trip arab country war</td>\n",
       "      <td>world news</td>\n",
       "      <td>assad office say meet sheikh mohamed bin rashi...</td>\n",
       "    </tr>\n",
       "    <tr>\n",
       "      <th>998</th>\n",
       "      <td>strong japan earthquake kill 4 injure 107</td>\n",
       "      <td>world news</td>\n",
       "      <td>7.4 magnitude temblor knock power cause extens...</td>\n",
       "    </tr>\n",
       "    <tr>\n",
       "      <th>999</th>\n",
       "      <td>9 dead 2 injure fiery crash involve university...</td>\n",
       "      <td>u.s news</td>\n",
       "      <td>canadian student hospitalize critical condition</td>\n",
       "    </tr>\n",
       "  </tbody>\n",
       "</table>\n",
       "<p>1000 rows × 3 columns</p>\n",
       "</div>"
      ],
      "text/plain": [
       "                                              headline    category  \\\n",
       "0    4 million americans roll sleeve omicron target...    u.s news   \n",
       "1    american airlines flyer charge ban life punch ...    u.s news   \n",
       "2            23 funniest tweet cat dog week sept 17 23      comedy   \n",
       "3                funniest tweet parent week sept 17 23   parenting   \n",
       "4    woman call cop black bird watcher lose lawsuit...    u.s news   \n",
       "..                                                 ...         ...   \n",
       "995           china weigh exit zero covid risk involve  world news   \n",
       "996  russian missile hit near lviv airport strike c...  world news   \n",
       "997    syria assad visit uae 1st trip arab country war  world news   \n",
       "998          strong japan earthquake kill 4 injure 107  world news   \n",
       "999  9 dead 2 injure fiery crash involve university...    u.s news   \n",
       "\n",
       "                                     short_description  \n",
       "0    health expert say early predict demand match 1...  \n",
       "1    subdue passenger crew flee aircraft confrontat...  \n",
       "2                                   dog understand eat  \n",
       "3    accidentally grow toothpaste toddler toothbrus...  \n",
       "4    amy cooper accuse investment firm franklin tem...  \n",
       "..                                                 ...  \n",
       "995  change appear imminent government continue pol...  \n",
       "996  world leader call investigation russia repeat ...  \n",
       "997  assad office say meet sheikh mohamed bin rashi...  \n",
       "998  7.4 magnitude temblor knock power cause extens...  \n",
       "999    canadian student hospitalize critical condition  \n",
       "\n",
       "[1000 rows x 3 columns]"
      ]
     },
     "execution_count": 92,
     "metadata": {},
     "output_type": "execute_result"
    }
   ],
   "source": [
    "df"
   ]
  },
  {
   "cell_type": "code",
   "execution_count": 96,
   "metadata": {
    "tags": []
   },
   "outputs": [
    {
     "name": "stdout",
     "output_type": "stream",
     "text": [
      "Category: comedy\n",
      "Description: sorry buddy give away favorite drink diet pepsi late night host say\n",
      "\n",
      "Category: comedy\n",
      "Description: instagram post che clarify leave snl confirm intend stay weekend update desk\n",
      "\n",
      "Category: comedy\n",
      "Description: coup yes way intentional plan coup say james austin johnson donald trump cold open\n",
      "\n",
      "Category: comedy\n",
      "Description: hear ad fresh cat food say cute kitty descend fierce desert cat look cat cat\n",
      "\n",
      "Category: comedy\n",
      "Description: dog understand eat\n",
      "\n"
     ]
    }
   ],
   "source": [
    "from sklearn.metrics.pairwise import cosine_similarity\n",
    "from sklearn.feature_extraction.text import TfidfVectorizer\n",
    "import pandas as pd\n",
    "\n",
    "# Combine 'headline' and 'short_description' for vectorization\n",
    "df['combined_text'] = df['headline'] + ' ' + df['short_description']\n",
    "\n",
    "# Vectorize the combined text\n",
    "vectorizer = TfidfVectorizer()\n",
    "vectorized_text = vectorizer.fit_transform(df['combined_text'].values)\n",
    "\n",
    "# Calculate cosine similarity on the vectorized text\n",
    "cosine_sim = cosine_similarity(vectorized_text, vectorized_text)\n",
    "\n",
    "# Define recommendation function with category filtering\n",
    "def get_recommendations(category, cosine_sim=cosine_sim, df=df):\n",
    "    # Check if the article with the specified title and category exists\n",
    "    matching_rows = df['category'] == category\n",
    "    if matching_rows.empty:\n",
    "        print(\"No article found with the specified category.\")\n",
    "        return\n",
    "    \n",
    "    # Get the index of the article that matches the category\n",
    "    idx = matching_rows.index[0]\n",
    "\n",
    "    # Get pairwise similarity scores for all articles with the selected article\n",
    "    sim_scores = list(enumerate(cosine_sim[idx]))\n",
    "\n",
    "    # Sort articles by similarity score in descending order\n",
    "    sim_scores = sorted(sim_scores, key=lambda x: x[1], reverse=True)\n",
    "\n",
    "    # Get the indices of the top 5 most similar articles within the same category\n",
    "    recommendations = [\n",
    "        i for i in sim_scores if df.iloc[i[0]]['category'] == category and i[0] != idx\n",
    "    ][:5]\n",
    "\n",
    "    # Display recommended articles\n",
    "    if recommendations:\n",
    "        for i in recommendations:\n",
    "            #print(f\"Title: {df.iloc[i[0]]['headline']}\")\n",
    "            print(f\"Category: {df.iloc[i[0]]['category']}\")\n",
    "            print(f\"Description: {df.iloc[i[0]]['short_description']}\\n\")\n",
    "    else:\n",
    "        print(\"No similar articles found within the same category.\")\n",
    "\n",
    "# Test the recommendation function with a specific headline and category\n",
    "get_recommendations(\"comedy\")"
   ]
  },
  {
   "cell_type": "code",
   "execution_count": 94,
   "metadata": {
    "tags": []
   },
   "outputs": [
    {
     "data": {
      "text/plain": [
       "['cosine_sim.pkl']"
      ]
     },
     "execution_count": 94,
     "metadata": {},
     "output_type": "execute_result"
    }
   ],
   "source": [
    "import joblib\n",
    "\n",
    "# Save the vectorizer\n",
    "joblib.dump(vectorizer, 'vectorizer.pkl')\n",
    "\n",
    "# Save the cosine similarity matrix\n",
    "joblib.dump(cosine_sim, 'cosine_sim.pkl')"
   ]
  },
  {
   "cell_type": "code",
   "execution_count": 95,
   "metadata": {
    "tags": []
   },
   "outputs": [
    {
     "name": "stdout",
     "output_type": "stream",
     "text": [
      "Category: environment\n",
      "Description: hundred people block bridge london scale oil tanker mass protest demand stop new oil gas project\n",
      "\n",
      "Category: environment\n",
      "Description: zachary head sanctuary well life ahead\n",
      "\n",
      "Category: environment\n",
      "Description: kind way united nations secretary general antónio guterre say\n",
      "\n",
      "Category: environment\n",
      "Description: monday world public database fossil fuel production reserve emission launch\n",
      "\n",
      "Category: environment\n",
      "Description: 10 year people refer september 2022 storm benchmark storm\n",
      "\n"
     ]
    }
   ],
   "source": [
    "from sklearn.metrics.pairwise import cosine_similarity\n",
    "from sklearn.feature_extraction.text import TfidfVectorizer\n",
    "import pandas as pd\n",
    "\n",
    "# Combine 'headline' and 'short_description' for vectorization\n",
    "df['combined_text'] = df['headline'] + ' ' + df['short_description']\n",
    "\n",
    "# Load the vectorizer and cosine similarity matrix\n",
    "vectorizer = joblib.load('vectorizer.pkl')\n",
    "cosine_sim = joblib.load('cosine_sim.pkl')\n",
    "\n",
    "# Define recommendation function with category filtering\n",
    "def get_recommendations(category, cosine_sim=cosine_sim, df=df):\n",
    "    # Check if the article with the specified title and category exists\n",
    "    matching_rows = df['category'] == category\n",
    "    if matching_rows.empty:\n",
    "        print(\"No article found with the specified category.\")\n",
    "        return\n",
    "    \n",
    "    # Get the index of the article that matches the category\n",
    "    idx = matching_rows.index[0]\n",
    "\n",
    "    # Get pairwise similarity scores for all articles with the selected article\n",
    "    sim_scores = list(enumerate(cosine_sim[idx]))\n",
    "\n",
    "    # Sort articles by similarity score in descending order\n",
    "    sim_scores = sorted(sim_scores, key=lambda x: x[1], reverse=True)\n",
    "\n",
    "    # Get the indices of the top 5 most similar articles within the same category\n",
    "    recommendations = [\n",
    "        i for i in sim_scores if df.iloc[i[0]]['category'] == category and i[0] != idx\n",
    "    ][:5]\n",
    "\n",
    "    # Display recommended articles\n",
    "    if recommendations:\n",
    "        for i in recommendations:\n",
    "            #print(f\"Title: {df.iloc[i[0]]['headline']}\")\n",
    "            print(f\"Category: {df.iloc[i[0]]['category']}\")\n",
    "            print(f\"Description: {df.iloc[i[0]]['short_description']}\\n\")\n",
    "    else:\n",
    "        print(\"No similar articles found within the same category.\")\n",
    "\n",
    "# Test the recommendation function with a specific headline and category\n",
    "get_recommendations(\"environment\")"
   ]
  },
  {
   "cell_type": "markdown",
   "metadata": {
    "tags": []
   },
   "source": [
    "# **Deployment**"
   ]
  },
  {
   "cell_type": "code",
   "execution_count": null,
   "metadata": {
    "tags": []
   },
   "outputs": [],
   "source": [
    "import streamlit as st\n",
    "import numpy as np\n",
    "import pandas as pd\n",
    "#import faiss  # if required\n",
    "#from your_model_file import load_your_model, recommend_news  # assuming these functions are defined"
   ]
  },
  {
   "cell_type": "code",
   "execution_count": null,
   "metadata": {
    "tags": []
   },
   "outputs": [],
   "source": [
    "#!pip install streamlit"
   ]
  },
  {
   "cell_type": "code",
   "execution_count": null,
   "metadata": {
    "tags": []
   },
   "outputs": [],
   "source": [
    "# Title and description\n",
    "st.title(\"News Recommendation System\")\n",
    "st.write(\"Get personalized news recommendations based on your preferences.\")\n",
    "\n",
    "# User input (e.g., interest area)\n",
    "user_input = st.text_input(\"Enter your interests or topics:\")"
   ]
  },
  {
   "cell_type": "code",
   "execution_count": null,
   "metadata": {
    "tags": []
   },
   "outputs": [],
   "source": [
    "@st.cache\n",
    "def load_model():\n",
    "    return load_your_model(\"model_path.pkl\")  # replace with actual loading function\n",
    "\n",
    "model = load_model()\n",
    "\n",
    "if st.button(\"Recommend News\"):\n",
    "    recommendations = recommend_news(model, user_input)\n",
    "    for rec in recommendations:\n",
    "        st.write(f\"Title: {rec['title']}\\nDescription: {rec['description']}\")"
   ]
  },
  {
   "cell_type": "code",
   "execution_count": null,
   "metadata": {
    "tags": []
   },
   "outputs": [],
   "source": []
  }
 ],
 "metadata": {
  "kaggle": {
   "accelerator": "gpu",
   "dataSources": [
    {
     "datasetId": 32526,
     "sourceId": 4243451,
     "sourceType": "datasetVersion"
    }
   ],
   "dockerImageVersionId": 30787,
   "isGpuEnabled": true,
   "isInternetEnabled": true,
   "language": "python",
   "sourceType": "notebook"
  },
  "kernelspec": {
   "display_name": "Python 3 (ipykernel)",
   "language": "python",
   "name": "python3"
  },
  "language_info": {
   "codemirror_mode": {
    "name": "ipython",
    "version": 3
   },
   "file_extension": ".py",
   "mimetype": "text/x-python",
   "name": "python",
   "nbconvert_exporter": "python",
   "pygments_lexer": "ipython3",
   "version": "3.11.5"
  }
 },
 "nbformat": 4,
 "nbformat_minor": 4
}
